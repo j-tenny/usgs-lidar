{
 "cells": [
  {
   "cell_type": "code",
   "execution_count": 1,
   "outputs": [],
   "source": [
    "import os\n",
    "from glob import glob\n",
    "\n",
    "files = [y for x in os.walk('E:/PDAL/doc/stages') for y in glob(os.path.join(x[0], '*.rst'))]"
   ],
   "metadata": {
    "collapsed": false,
    "pycharm": {
     "name": "#%%\n"
    }
   }
  },
  {
   "cell_type": "code",
   "execution_count": 2,
   "outputs": [],
   "source": [
    "names = [os.path.basename(file).rsplit('.rst')[0] for file in files]"
   ],
   "metadata": {
    "collapsed": false,
    "pycharm": {
     "name": "#%%\n"
    }
   }
  },
  {
   "cell_type": "code",
   "execution_count": 3,
   "outputs": [],
   "source": [
    "reader_names = [name.split('.')[1] for name in names if 'readers' in name and '.' in name]\n",
    "writer_names = [name.split('.')[1] for name in names if 'writers' in name and '.' in name]\n",
    "filter_names = [name.split('.')[1] for name in names if 'filters' in name and '.' in name]"
   ],
   "metadata": {
    "collapsed": false,
    "pycharm": {
     "name": "#%%\n"
    }
   }
  },
  {
   "cell_type": "code",
   "execution_count": 4,
   "outputs": [],
   "source": [
    "def auto_func(name,options,helptext,module):\n",
    "    lines = [\n",
    "        f\"def {name}({'=None, '.join(options)}):\",\n",
    "        r'    \"\"\"' + helptext + r'    \"\"\"',\n",
    "        '',\n",
    "        '    vars = dict()',\n",
    "        f\"    vars['type'] = '{module}.{name}'\",\n",
    "        \"    vars.update(locals().copy())\",\n",
    "        \"    del(vars['kwargs'])\",\n",
    "        \"    del(vars['vars'])\",\n",
    "        \"    for key in list(vars.keys()):\",\n",
    "        \"        if vars[key] is None:\",\n",
    "        \"            del(vars[key])\",\n",
    "        \"    vars.update(kwargs)\",\n",
    "\n",
    "        \"    return vars\",\n",
    "        ''\n",
    "    ]\n",
    "\n",
    "    return lines"
   ],
   "metadata": {
    "collapsed": false,
    "pycharm": {
     "name": "#%%\n"
    }
   }
  },
  {
   "cell_type": "code",
   "execution_count": 5,
   "outputs": [],
   "source": [
    "def auto_module(module,names):\n",
    "    lines = list()\n",
    "\n",
    "    for name in names:\n",
    "\n",
    "        helpfile = 'E:/PDAL/doc/stages/' + module + '.' + name + '.rst'\n",
    "\n",
    "        try:\n",
    "            with open(helpfile) as f:\n",
    "                helptext = f.readlines()\n",
    "\n",
    "            readoptions = False\n",
    "            options = list()\n",
    "\n",
    "            for line, nextline in zip(helptext,helptext[1:]):\n",
    "                if readoptions==True:\n",
    "                    line = line.strip()\n",
    "                    line_strip_sc = line.strip(\"'-:[]=+()%^$#!&*<>.,/`{}|~\")\n",
    "                    if len(line)>0 and len(line.split(' '))==1 and len(line)==len(line_strip_sc) and line!='class' and line != 'as' and line != 'global' and '|' not in line:\n",
    "                        options.append(line)\n",
    "\n",
    "                if 'Options' in line and '----' in nextline:\n",
    "                    readoptions = True\n",
    "\n",
    "\n",
    "            helptext = '\\n'.join(helptext)\n",
    "            options.extend(['inputs','tag','**kwargs'])\n",
    "\n",
    "        except:\n",
    "            helptext = ''\n",
    "            options = ['**kwargs']\n",
    "\n",
    "        lines.extend(auto_func(name,options,helptext,module))\n",
    "\n",
    "    with open(module + '.py','w') as f:\n",
    "        f.writelines('\\n'.join(lines))"
   ],
   "metadata": {
    "collapsed": false,
    "pycharm": {
     "name": "#%%\n"
    }
   }
  },
  {
   "cell_type": "code",
   "execution_count": 6,
   "outputs": [],
   "source": [
    "auto_module('readers',reader_names)\n",
    "auto_module('writers',writer_names)\n",
    "auto_module('filters',filter_names)"
   ],
   "metadata": {
    "collapsed": false,
    "pycharm": {
     "name": "#%%\n"
    }
   }
  },
  {
   "cell_type": "code",
   "execution_count": 7,
   "outputs": [],
   "source": [
    "import filters\n",
    "import writers\n",
    "import readers"
   ],
   "metadata": {
    "collapsed": false,
    "pycharm": {
     "name": "#%%\n"
    }
   }
  },
  {
   "cell_type": "code",
   "execution_count": 8,
   "outputs": [
    {
     "data": {
      "text/plain": "{'type': 'readers.e57', 'filename': 'E:/SanCarlos/TLS_1/San_carlos_1_0.e57'}"
     },
     "execution_count": 8,
     "metadata": {},
     "output_type": "execute_result"
    }
   ],
   "source": [
    "readers.e57(filename='E:/SanCarlos/TLS_1/San_carlos_1_0.e57')"
   ],
   "metadata": {
    "collapsed": false,
    "pycharm": {
     "name": "#%%\n"
    }
   }
  },
  {
   "cell_type": "code",
   "execution_count": null,
   "outputs": [],
   "source": [],
   "metadata": {
    "collapsed": false,
    "pycharm": {
     "name": "#%%\n"
    }
   }
  }
 ],
 "metadata": {
  "kernelspec": {
   "display_name": "Python 3",
   "language": "python",
   "name": "python3"
  },
  "language_info": {
   "codemirror_mode": {
    "name": "ipython",
    "version": 2
   },
   "file_extension": ".py",
   "mimetype": "text/x-python",
   "name": "python",
   "nbconvert_exporter": "python",
   "pygments_lexer": "ipython2",
   "version": "2.7.6"
  }
 },
 "nbformat": 4,
 "nbformat_minor": 0
}